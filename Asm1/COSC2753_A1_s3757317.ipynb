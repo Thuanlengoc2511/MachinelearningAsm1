{
 "cells": [
  {
   "cell_type": "markdown",
   "id": "55c02353",
   "metadata": {},
   "source": [
    "<h1><center>COSC2753 Assignment 1 - s3757317</center></h1>\n",
    "RMIT University Vietnam\n",
    "<br>\n",
    "Course: COSC2753 - Machine Learning\n",
    "<br>\n",
    "Semester: 2022A\n",
    "<br>\n",
    "Author: Quách Gia Vĩ (3757317)"
   ]
  },
  {
   "cell_type": "markdown",
   "id": "6ea3a272",
   "metadata": {},
   "source": [
    "## Navigation\n",
    "\n",
    "* [Explanatory Data Analysis (EDA)](#eda)\n",
    "    * [Data Collection](#Data-collection)\n",
    "    * [Data Cleaning](#data-cleaning)\n",
    "    * [Data Distribution](#data-distribution)\n",
    "* [Data Preprocessing and Feature Engineering](#data-preprocessing)\n",
    "    * [Splitting Data](#splitting)\n",
    "    * [Feature Scaling](#scaling)\n",
    "* [Training The Models](#training-models)\n",
    "    * [Logistic Regression](#logreg)\n",
    "    * [Decision Tree](#dt)\n",
    "    * [Random Forest](#rfc)\n",
    "* [Predicting Test Data](#predicting)\n",
    "    * [Cross Validation](#cross-val)\n",
    "    * [Writing to file](#writing)"
   ]
  },
  {
   "cell_type": "markdown",
   "id": "60d5f224",
   "metadata": {},
   "source": [
    "## Data Fields\n",
    "\n",
    "| Column   Name                | Attribute/Target | Description                                       |\n",
    "|------------------------------|------------------|---------------------------------------------------|\n",
    "| ID                           | N/A              | Unique number to represent patient ID             |\n",
    "| PRG                          | Attribute1       |  Plasma glucose                                   |\n",
    "| PL                           | Attribute 2      |   Blood Work Result-1 (mu U/ml)                   |\n",
    "| PR                           | Attribute 3      | Blood Pressure (mm Hg)                            |\n",
    "| SK                           | Attribute 4      | Blood Work Result-2 (mm)                          |\n",
    "| TS                           | Attribute 5      |     Blood Work Result-3 (mu U/ml)                 |\n",
    "| M11                          | Attribute 6      |  Body mass index (weight in kg/(height in m)^2    |\n",
    "| BD2                          | Attribute 7      |   Blood Work Result-4 (mu U/ml)                   |\n",
    "| Age                          | Attribute 8      |    patients age  (years)                          |\n",
    "| Insurance                    | N/A              | If a patient holds a valid insurance card         |\n",
    "| Sepssis                      | Target           | Positive: if a patient in ICU will develop a sepsis , and Negative: otherwise |\n",
    "\n",
    "<br>"
   ]
  },
  {
   "cell_type": "markdown",
   "id": "5f304b72",
   "metadata": {},
   "source": [
    "<hr>\n",
    "<div style=\"background-color: blue; color: white; text-align: center; padding: 6px 0 22px 0\">\n",
    "    <h1 style='font-size: 32px'>My work</h1>\n",
    "</div>"
   ]
  },
  {
   "cell_type": "markdown",
   "id": "f7ab4207",
   "metadata": {},
   "source": [
    "<a id=\"eda\"></a>\n",
    "<div style=\"background-color: lightblue; color: black; text-align: center; padding: 6px 0 22px 0\">\n",
    "    <h2>Exploratory Data Analysis</h2>\n",
    "</div>"
   ]
  },
  {
   "cell_type": "markdown",
   "id": "de550f93",
   "metadata": {},
   "source": [
    "Import all the necessary libraries"
   ]
  },
  {
   "cell_type": "code",
   "execution_count": 1,
   "id": "14929407",
   "metadata": {},
   "outputs": [],
   "source": [
    "import pandas as pd\n",
    "import matplotlib.pyplot as plt\n",
    "import numpy as np\n",
    "import seaborn as sns\n",
    "\n",
    "from sklearn.model_selection import train_test_split, GridSearchCV, cross_val_score\n",
    "from sklearn.linear_model import LogisticRegression\n",
    "from sklearn.preprocessing import StandardScaler\n",
    "from sklearn.tree import DecisionTreeClassifier\n",
    "from sklearn.ensemble import RandomForestClassifier\n",
    "from sklearn.metrics import classification_report, confusion_matrix, accuracy_score, f1_score"
   ]
  },
  {
   "cell_type": "markdown",
   "id": "0ed4bbcc",
   "metadata": {},
   "source": [
    "<a id=\"data-collection\"></a>\n",
    "## Data Collection"
   ]
  },
  {
   "cell_type": "markdown",
   "id": "5a4582e2",
   "metadata": {},
   "source": [
    "Load datasets"
   ]
  },
  {
   "cell_type": "code",
   "execution_count": 2,
   "id": "b8f462ff",
   "metadata": {
    "scrolled": true
   },
   "outputs": [],
   "source": [
    "# train data\n",
    "train_df = pd.read_csv(\"Paitients_Files_Train.csv\", delimiter=\",\")\n",
    "\n",
    "# test data\n",
    "test_df = pd.read_csv(\"Paitients_Files_Test.csv\", delimiter=\",\")\n",
    "\n",
    "# sample submission data\n",
    "submission_df = pd.read_csv(\"S1234567 predictions.csv\", delimiter=\",\")"
   ]
  },
  {
   "cell_type": "markdown",
   "id": "68d0528f",
   "metadata": {},
   "source": [
    "<a id=\"data-cleaning\"></a>\n",
    "## Data Cleaning"
   ]
  },
  {
   "cell_type": "markdown",
   "id": "a84b810d",
   "metadata": {},
   "source": [
    "Remove \"ID\" and \"Insurance\" attributes as stated in the assignment restrictions"
   ]
  },
  {
   "cell_type": "code",
   "execution_count": 3,
   "id": "9c0365b9",
   "metadata": {
    "scrolled": false
   },
   "outputs": [],
   "source": [
    "del train_df[\"ID\"]\n",
    "del train_df[\"Insurance\"]\n",
    "del test_df[\"ID\"]\n",
    "del test_df[\"Insurance\"]"
   ]
  },
  {
   "cell_type": "markdown",
   "id": "e53fa41f",
   "metadata": {},
   "source": [
    "Check the data types to see if there's anything unusual"
   ]
  },
  {
   "cell_type": "code",
   "execution_count": 2,
   "id": "adad0cfe",
   "metadata": {
    "scrolled": false
   },
   "outputs": [
    {
     "ename": "NameError",
     "evalue": "name 'train_df' is not defined",
     "output_type": "error",
     "traceback": [
      "\u001b[1;31m---------------------------------------------------------------------------\u001b[0m",
      "\u001b[1;31mNameError\u001b[0m                                 Traceback (most recent call last)",
      "\u001b[1;32m~\\AppData\\Local\\Temp\\ipykernel_2876\\2772816350.py\u001b[0m in \u001b[0;36m<module>\u001b[1;34m\u001b[0m\n\u001b[1;32m----> 1\u001b[1;33m \u001b[0mprint\u001b[0m\u001b[1;33m(\u001b[0m\u001b[0mtrain_df\u001b[0m\u001b[1;33m.\u001b[0m\u001b[0minfo\u001b[0m\u001b[1;33m(\u001b[0m\u001b[1;33m)\u001b[0m\u001b[1;33m)\u001b[0m\u001b[1;33m\u001b[0m\u001b[1;33m\u001b[0m\u001b[0m\n\u001b[0m\u001b[0;32m      2\u001b[0m \u001b[0mprint\u001b[0m\u001b[1;33m(\u001b[0m\u001b[0mtrain_df\u001b[0m\u001b[1;33m.\u001b[0m\u001b[0mdescribe\u001b[0m\u001b[1;33m(\u001b[0m\u001b[1;33m)\u001b[0m\u001b[1;33m)\u001b[0m\u001b[1;33m\u001b[0m\u001b[1;33m\u001b[0m\u001b[0m\n\u001b[0;32m      3\u001b[0m \u001b[0mprint\u001b[0m\u001b[1;33m(\u001b[0m\u001b[0mtrain_df\u001b[0m\u001b[1;33m.\u001b[0m\u001b[0mhead\u001b[0m\u001b[1;33m(\u001b[0m\u001b[1;33m)\u001b[0m\u001b[1;33m)\u001b[0m\u001b[1;33m\u001b[0m\u001b[1;33m\u001b[0m\u001b[0m\n",
      "\u001b[1;31mNameError\u001b[0m: name 'train_df' is not defined"
     ]
    }
   ],
   "source": [
    "print(train_df.info())\n",
    "print(train_df.describe())\n",
    "print(train_df.head())"
   ]
  },
  {
   "cell_type": "code",
   "execution_count": 5,
   "id": "cf26723b",
   "metadata": {},
   "outputs": [
    {
     "name": "stdout",
     "output_type": "stream",
     "text": [
      "<class 'pandas.core.frame.DataFrame'>\n",
      "RangeIndex: 169 entries, 0 to 168\n",
      "Data columns (total 8 columns):\n",
      " #   Column  Non-Null Count  Dtype  \n",
      "---  ------  --------------  -----  \n",
      " 0   PRG     169 non-null    int64  \n",
      " 1   PL      169 non-null    int64  \n",
      " 2   PR      169 non-null    int64  \n",
      " 3   SK      169 non-null    int64  \n",
      " 4   TS      169 non-null    int64  \n",
      " 5   M11     169 non-null    float64\n",
      " 6   BD2     169 non-null    float64\n",
      " 7   Age     169 non-null    int64  \n",
      "dtypes: float64(2), int64(6)\n",
      "memory usage: 10.7 KB\n",
      "None\n",
      "              PRG          PL          PR          SK          TS         M11  \\\n",
      "count  169.000000  169.000000  169.000000  169.000000  169.000000  169.000000   \n",
      "mean     3.917160  123.520710   70.426036   20.443787   81.000000   32.249704   \n",
      "std      3.402415   29.259123   19.426805   15.764962  110.720852    7.444886   \n",
      "min      0.000000   56.000000    0.000000    0.000000    0.000000    0.000000   \n",
      "25%      1.000000  102.000000   62.000000    0.000000    0.000000   27.600000   \n",
      "50%      3.000000  120.000000   74.000000   23.000000    0.000000   32.400000   \n",
      "75%      6.000000  141.000000   80.000000   32.000000  135.000000   36.600000   \n",
      "max     13.000000  199.000000  114.000000   49.000000  540.000000   57.300000   \n",
      "\n",
      "              BD2         Age  \n",
      "count  169.000000  169.000000  \n",
      "mean     0.438876   33.065089  \n",
      "std      0.306935   11.548110  \n",
      "min      0.100000   21.000000  \n",
      "25%      0.223000   24.000000  \n",
      "50%      0.343000   28.000000  \n",
      "75%      0.587000   42.000000  \n",
      "max      1.698000   70.000000  \n",
      "   PRG   PL  PR  SK   TS   M11    BD2  Age\n",
      "0    1  109  38  18  120  23.1  0.407   26\n",
      "1    1  108  88  19    0  27.1  0.400   24\n",
      "2    6   96   0   0    0  23.7  0.190   28\n",
      "3    1  124  74  36    0  27.8  0.100   30\n",
      "4    7  150  78  29  126  35.2  0.692   54\n"
     ]
    }
   ],
   "source": [
    "print(test_df.info())\n",
    "print(test_df.describe())\n",
    "print(test_df.head())"
   ]
  },
  {
   "cell_type": "markdown",
   "id": "4df859aa",
   "metadata": {},
   "source": [
    "Seems like there's nothing wrong with the data. But there's object type in 'Sepssis' column. Replace \"Positive\" and \"Negative\" with 1 and 0 respectively and check again"
   ]
  },
  {
   "cell_type": "code",
   "execution_count": 6,
   "id": "e1c68ef2",
   "metadata": {},
   "outputs": [
    {
     "name": "stdout",
     "output_type": "stream",
     "text": [
      "<class 'pandas.core.frame.DataFrame'>\n",
      "RangeIndex: 599 entries, 0 to 598\n",
      "Data columns (total 9 columns):\n",
      " #   Column   Non-Null Count  Dtype  \n",
      "---  ------   --------------  -----  \n",
      " 0   PRG      599 non-null    int64  \n",
      " 1   PL       599 non-null    int64  \n",
      " 2   PR       599 non-null    int64  \n",
      " 3   SK       599 non-null    int64  \n",
      " 4   TS       599 non-null    int64  \n",
      " 5   M11      599 non-null    float64\n",
      " 6   BD2      599 non-null    float64\n",
      " 7   Age      599 non-null    int64  \n",
      " 8   Sepssis  599 non-null    int64  \n",
      "dtypes: float64(2), int64(7)\n",
      "memory usage: 42.2 KB\n",
      "None\n"
     ]
    },
    {
     "data": {
      "text/html": [
       "<div>\n",
       "<style scoped>\n",
       "    .dataframe tbody tr th:only-of-type {\n",
       "        vertical-align: middle;\n",
       "    }\n",
       "\n",
       "    .dataframe tbody tr th {\n",
       "        vertical-align: top;\n",
       "    }\n",
       "\n",
       "    .dataframe thead th {\n",
       "        text-align: right;\n",
       "    }\n",
       "</style>\n",
       "<table border=\"1\" class=\"dataframe\">\n",
       "  <thead>\n",
       "    <tr style=\"text-align: right;\">\n",
       "      <th></th>\n",
       "      <th>PRG</th>\n",
       "      <th>PL</th>\n",
       "      <th>PR</th>\n",
       "      <th>SK</th>\n",
       "      <th>TS</th>\n",
       "      <th>M11</th>\n",
       "      <th>BD2</th>\n",
       "      <th>Age</th>\n",
       "      <th>Sepssis</th>\n",
       "    </tr>\n",
       "  </thead>\n",
       "  <tbody>\n",
       "    <tr>\n",
       "      <th>0</th>\n",
       "      <td>6</td>\n",
       "      <td>148</td>\n",
       "      <td>72</td>\n",
       "      <td>35</td>\n",
       "      <td>0</td>\n",
       "      <td>33.6</td>\n",
       "      <td>0.627</td>\n",
       "      <td>50</td>\n",
       "      <td>1</td>\n",
       "    </tr>\n",
       "    <tr>\n",
       "      <th>1</th>\n",
       "      <td>1</td>\n",
       "      <td>85</td>\n",
       "      <td>66</td>\n",
       "      <td>29</td>\n",
       "      <td>0</td>\n",
       "      <td>26.6</td>\n",
       "      <td>0.351</td>\n",
       "      <td>31</td>\n",
       "      <td>0</td>\n",
       "    </tr>\n",
       "    <tr>\n",
       "      <th>2</th>\n",
       "      <td>8</td>\n",
       "      <td>183</td>\n",
       "      <td>64</td>\n",
       "      <td>0</td>\n",
       "      <td>0</td>\n",
       "      <td>23.3</td>\n",
       "      <td>0.672</td>\n",
       "      <td>32</td>\n",
       "      <td>1</td>\n",
       "    </tr>\n",
       "    <tr>\n",
       "      <th>3</th>\n",
       "      <td>1</td>\n",
       "      <td>89</td>\n",
       "      <td>66</td>\n",
       "      <td>23</td>\n",
       "      <td>94</td>\n",
       "      <td>28.1</td>\n",
       "      <td>0.167</td>\n",
       "      <td>21</td>\n",
       "      <td>0</td>\n",
       "    </tr>\n",
       "    <tr>\n",
       "      <th>4</th>\n",
       "      <td>0</td>\n",
       "      <td>137</td>\n",
       "      <td>40</td>\n",
       "      <td>35</td>\n",
       "      <td>168</td>\n",
       "      <td>43.1</td>\n",
       "      <td>2.288</td>\n",
       "      <td>33</td>\n",
       "      <td>1</td>\n",
       "    </tr>\n",
       "  </tbody>\n",
       "</table>\n",
       "</div>"
      ],
      "text/plain": [
       "   PRG   PL  PR  SK   TS   M11    BD2  Age  Sepssis\n",
       "0    6  148  72  35    0  33.6  0.627   50        1\n",
       "1    1   85  66  29    0  26.6  0.351   31        0\n",
       "2    8  183  64   0    0  23.3  0.672   32        1\n",
       "3    1   89  66  23   94  28.1  0.167   21        0\n",
       "4    0  137  40  35  168  43.1  2.288   33        1"
      ]
     },
     "metadata": {},
     "output_type": "display_data"
    }
   ],
   "source": [
    "train_df[[\"Sepssis\"]] = train_df[[\"Sepssis\"]].replace(\"Positive\", 1).replace(\"Negative\", 0)\n",
    "print(train_df.info())\n",
    "display(train_df.head())"
   ]
  },
  {
   "cell_type": "markdown",
   "id": "91546376",
   "metadata": {},
   "source": [
    "Seems like nothing is wrong with the data now, I proceed to next step"
   ]
  },
  {
   "cell_type": "markdown",
   "id": "906504df",
   "metadata": {},
   "source": [
    "<a id=\"data-distribution\"></a>\n",
    "## Data Distribution"
   ]
  },
  {
   "cell_type": "markdown",
   "id": "2f73f1e7",
   "metadata": {},
   "source": [
    "Here I want to see data distribution to know which technique to use for feature scaling and correlation between each feature/variable to do more preprocessing if necessary"
   ]
  },
  {
   "cell_type": "code",
   "execution_count": 7,
   "id": "5afd35e5",
   "metadata": {
    "scrolled": false
   },
   "outputs": [
    {
     "data": {
      "text/plain": [
       "<AxesSubplot:>"
      ]
     },
     "execution_count": 7,
     "metadata": {},
     "output_type": "execute_result"
    },
    {
     "data": {
      "image/png": "[encoded data removed]",
      "text/plain": [
       "<Figure size 504x504 with 2 Axes>"
      ]
     },
     "metadata": {
      "needs_background": "light"
     },
     "output_type": "display_data"
    }
   ],
   "source": [
    "# Create a correlation matrix and use heatmap to identify correlation between variables\n",
    "plt.figure(figsize=(7, 7))\n",
    "sns.heatmap(train_df.corr(), annot = True)"
   ]
  },
  {
   "cell_type": "markdown",
   "id": "27235199",
   "metadata": {},
   "source": [
    "Seems like there's nothing really special with the correlation, there's no variable that has exceptionally high correlation to the Sepssis variable so I won't use Linear Regression, plus the target variable is binary, so it wouldn't make sense to use Linear Regression which is good for interval variable"
   ]
  },
  {
   "cell_type": "markdown",
   "id": "3557e2bb",
   "metadata": {},
   "source": [
    "Check data distribution"
   ]
  },
  {
   "cell_type": "code",
   "execution_count": 8,
   "id": "47378c72",
   "metadata": {},
   "outputs": [
    {
     "data": {
      "text/plain": [
       "<AxesSubplot:ylabel='Density'>"
      ]
     },
     "metadata": {},
     "output_type": "display_data"
    },
    {
     "data": {
      "image/png": "[encoded data removed]",
      "text/plain": [
       "<Figure size 432x288 with 1 Axes>"
      ]
     },
     "metadata": {
      "needs_background": "light"
     },
     "output_type": "display_data"
    }
   ],
   "source": [
    "display(sns.kdeplot(data=train_df.drop(['Sepssis'], axis=1)))"
   ]
  },
  {
   "cell_type": "markdown",
   "id": "2d61c3ba",
   "metadata": {},
   "source": [
    "Now let's quickly remove the BD2 and PRG variables to see others more easily"
   ]
  },
  {
   "cell_type": "code",
   "execution_count": 9,
   "id": "a27b972c",
   "metadata": {
    "scrolled": true
   },
   "outputs": [
    {
     "data": {
      "text/plain": [
       "<AxesSubplot:ylabel='Density'>"
      ]
     },
     "metadata": {},
     "output_type": "display_data"
    },
    {
     "data": {
      "image/png": "[encoded data removed]",
      "text/plain": [
       "<Figure size 432x288 with 1 Axes>"
      ]
     },
     "metadata": {
      "needs_background": "light"
     },
     "output_type": "display_data"
    }
   ],
   "source": [
    "display(sns.kdeplot(data=train_df.drop(['Sepssis', 'BD2'], axis=1)))"
   ]
  },
  {
   "cell_type": "code",
   "execution_count": 10,
   "id": "5e6a2625",
   "metadata": {},
   "outputs": [
    {
     "data": {
      "text/plain": [
       "<AxesSubplot:ylabel='Density'>"
      ]
     },
     "metadata": {},
     "output_type": "display_data"
    },
    {
     "data": {
      "image/png": "[encoded data removed]",
      "text/plain": [
       "<Figure size 432x288 with 1 Axes>"
      ]
     },
     "metadata": {
      "needs_background": "light"
     },
     "output_type": "display_data"
    }
   ],
   "source": [
    "display(sns.kdeplot(data=train_df.drop(['Sepssis', 'BD2', 'PRG'], axis=1)))"
   ]
  },
  {
   "cell_type": "markdown",
   "id": "6c142ed6",
   "metadata": {},
   "source": [
    "The data doesn't have a Gaussian curve so I will perform feature scaling for preprocessing"
   ]
  },
  {
   "cell_type": "markdown",
   "id": "e5364948",
   "metadata": {},
   "source": [
    "Using box plot to see outliers"
   ]
  },
  {
   "cell_type": "code",
   "execution_count": 11,
   "id": "9ad19039",
   "metadata": {
    "scrolled": true
   },
   "outputs": [
    {
     "data": {
      "text/plain": [
       "<AxesSubplot:>"
      ]
     },
     "execution_count": 11,
     "metadata": {},
     "output_type": "execute_result"
    },
    {
     "data": {
      "image/png": "[encoded data removed]",
      "text/plain": [
       "<Figure size 432x288 with 1 Axes>"
      ]
     },
     "metadata": {
      "needs_background": "light"
     },
     "output_type": "display_data"
    }
   ],
   "source": [
    "sns.boxplot(data=train_df.drop(['Sepssis'], axis=1))"
   ]
  },
  {
   "cell_type": "markdown",
   "id": "fab840b6",
   "metadata": {},
   "source": [
    "Because the data has a lot of outliers, RobustScaler for scaling should be good"
   ]
  },
  {
   "cell_type": "markdown",
   "id": "483d99b8",
   "metadata": {},
   "source": [
    "<a id=\"data-preprocessing\"></a>\n",
    "<div style=\"background-color: lightblue; color: black; text-align: center; padding: 6px 0 22px 0\">\n",
    "    <h2>Data Preprocessing and Feature Engineering</h2>\n",
    "</div>"
   ]
  },
  {
   "cell_type": "markdown",
   "id": "77bc4488",
   "metadata": {},
   "source": [
    "<a id=\"splitting\"></a>\n",
    "## Splitting Data"
   ]
  },
  {
   "cell_type": "markdown",
   "id": "bf342925",
   "metadata": {},
   "source": [
    "Create train X and Y to use with models"
   ]
  },
  {
   "cell_type": "code",
   "execution_count": 12,
   "id": "0f95cb26",
   "metadata": {},
   "outputs": [],
   "source": [
    "X = train_df.drop(['Sepssis'], axis=1);\n",
    "y = train_df[[\"Sepssis\"]];"
   ]
  },
  {
   "cell_type": "code",
   "execution_count": 13,
   "id": "d4097183",
   "metadata": {},
   "outputs": [
    {
     "name": "stdout",
     "output_type": "stream",
     "text": [
      "     PRG   PL  PR  SK   TS   M11    BD2  Age\n",
      "0      6  148  72  35    0  33.6  0.627   50\n",
      "1      1   85  66  29    0  26.6  0.351   31\n",
      "2      8  183  64   0    0  23.3  0.672   32\n",
      "3      1   89  66  23   94  28.1  0.167   21\n",
      "4      0  137  40  35  168  43.1  2.288   33\n",
      "..   ...  ...  ..  ..  ...   ...    ...  ...\n",
      "594    6  123  72  45  230  33.6  0.733   34\n",
      "595    0  188  82  14  185  32.0  0.682   22\n",
      "596    0   67  76   0    0  45.3  0.194   46\n",
      "597    1   89  24  19   25  27.8  0.559   21\n",
      "598    1  173  74   0    0  36.8  0.088   38\n",
      "\n",
      "[599 rows x 8 columns]\n",
      "     Sepssis\n",
      "0          1\n",
      "1          0\n",
      "2          1\n",
      "3          0\n",
      "4          1\n",
      "..       ...\n",
      "594        0\n",
      "595        1\n",
      "596        0\n",
      "597        0\n",
      "598        1\n",
      "\n",
      "[599 rows x 1 columns]\n"
     ]
    }
   ],
   "source": [
    "print(X)\n",
    "print(y)"
   ]
  },
  {
   "cell_type": "markdown",
   "id": "8f1e365f",
   "metadata": {},
   "source": [
    "Because the amount of data is quite small, I will keep the training data as large as possible in order for the models to be more accurate and use cross validation in order to check for underfitting and overfitting"
   ]
  },
  {
   "cell_type": "markdown",
   "id": "c7abd0f7",
   "metadata": {},
   "source": [
    "<s>Split into 2 train (80%) and test (20%) sets to train and then do another split for a validation set (20%) as well, so train set will be 60%</s>"
   ]
  },
  {
   "cell_type": "code",
   "execution_count": 14,
   "id": "bb0825ae",
   "metadata": {},
   "outputs": [
    {
     "name": "stdout",
     "output_type": "stream",
     "text": [
      "X_train shape: (479, 8)\n",
      "X_test shape:  (120, 8)\n",
      "y_train shape: (479, 1)\n",
      "y_test shape:  (120, 1)\n"
     ]
    }
   ],
   "source": [
    "X_train, X_test, y_train, y_test = train_test_split(X, y, test_size=0.2, random_state=10)\n",
    "# X_train, X_val, y_train, y_val = train_test_split(X_train, y_train, test_size=0.25)\n",
    "\n",
    "print(\"X_train shape: {}\".format(X_train.shape))\n",
    "print(\"X_test shape:  {}\".format(X_test.shape))\n",
    "print(\"y_train shape: {}\".format(y_train.shape))\n",
    "print(\"y_test shape:  {}\".format(y_test.shape))\n",
    "# print(\"X_val shape:   {}\".format(X_val.shape))\n",
    "# print(\"y_val shape:   {}\".format(y_val.shape))"
   ]
  },
  {
   "cell_type": "markdown",
   "id": "f748a10a",
   "metadata": {},
   "source": [
    "<a id=\"scaling\"></a>\n",
    "## Feature Scaling"
   ]
  },
  {
   "cell_type": "markdown",
   "id": "0b277c69",
   "metadata": {},
   "source": [
    "Normalize our features so our logistic regression algorithm can perform better. We can still use the not-scaled data for our tree models because they are not sensitive to variance in the data"
   ]
  },
  {
   "cell_type": "code",
   "execution_count": 15,
   "id": "059a98a4",
   "metadata": {},
   "outputs": [],
   "source": [
    "scaler = StandardScaler()\n",
    "\n",
    "scaler.fit(X_train)\n",
    "X_train_scaled = scaler.transform(X_train)\n",
    "# X_val = scaler.transform(X_val)\n",
    "X_test_scaled = scaler.transform(X_test)"
   ]
  },
  {
   "cell_type": "markdown",
   "id": "9a30d79c",
   "metadata": {},
   "source": [
    "Check box plot to check for outliers"
   ]
  },
  {
   "cell_type": "code",
   "execution_count": 16,
   "id": "a84ca361",
   "metadata": {
    "scrolled": false
   },
   "outputs": [
    {
     "data": {
      "text/plain": [
       "<AxesSubplot:>"
      ]
     },
     "execution_count": 16,
     "metadata": {},
     "output_type": "execute_result"
    },
    {
     "data": {
      "image/png": "[encoded data removed]",
      "text/plain": [
       "<Figure size 432x288 with 1 Axes>"
      ]
     },
     "metadata": {
      "needs_background": "light"
     },
     "output_type": "display_data"
    }
   ],
   "source": [
    "sns.boxplot(data=X_train)"
   ]
  },
  {
   "cell_type": "markdown",
   "id": "fa35b62c",
   "metadata": {},
   "source": [
    "There are still a lot of outliers, but because I'm not sure if these data is correct or not, and we don't have thousands of data to validate. Furthermore, the amount of outliers here is a lot, which is interesting, because they are usually rare. So I will keep the data instead of doing imputation to remove all or most of them."
   ]
  },
  {
   "cell_type": "markdown",
   "id": "f17817a7",
   "metadata": {},
   "source": [
    "<a id=\"training-models\"></a>\n",
    "<div style=\"background-color: lightblue; color: black; text-align: center; padding: 6px 0 22px 0\">\n",
    "    <h2>Training The Models</h2>\n",
    "</div>"
   ]
  },
  {
   "cell_type": "markdown",
   "id": "d9ab5715",
   "metadata": {},
   "source": [
    "<a id=\"logreg\"></a>\n",
    "## Logistic Regression\n",
    "\n",
    "Using Logistic Regression because target is a binary variable (0 or 1) and the target is dependent on all other variables. Furthermore, we can use F1 score and/or confusion matrix to see if the models I use will be good or not"
   ]
  },
  {
   "cell_type": "markdown",
   "id": "cb3b0dcf",
   "metadata": {},
   "source": [
    "Check positive and negative count to so I can decide whether to include balance for class_weight in the hyperparameter"
   ]
  },
  {
   "cell_type": "code",
   "execution_count": 17,
   "id": "dabb851a",
   "metadata": {},
   "outputs": [
    {
     "name": "stdout",
     "output_type": "stream",
     "text": [
      "Positive case count: 162\n",
      "Negative case count: 317\n"
     ]
    }
   ],
   "source": [
    "print('Positive case count:', y_train['Sepssis'].value_counts()[1])\n",
    "print('Negative case count:', y_train['Sepssis'].value_counts()[0])"
   ]
  },
  {
   "cell_type": "markdown",
   "id": "bbb748c5",
   "metadata": {},
   "source": [
    "Hyperparameter tuning done after getting best parameters from GridSearchCV. Did manual tuning through trial-and-error using all 3 training, validation, and test sets. Goal is to get all training score, validation score, and test scores the same or as close as possible. Parameters are at default because the results are surprisingly good at default after tuning manually."
   ]
  },
  {
   "cell_type": "code",
   "execution_count": 18,
   "id": "482af934",
   "metadata": {},
   "outputs": [],
   "source": [
    "# param_LR = {\n",
    "#     'penalty' : ['l1', 'l2', 'elasticnet', 'none'],\n",
    "#     'C' : np.logspace(-4, 4, 20),\n",
    "#     'solver' : ['lbfgs','newton-cg','liblinear','sag','saga'],\n",
    "#     'max_iter' : [100, 1000, 2500, 5000],\n",
    "# }\n",
    "\n",
    "# gsCV_LR = GridSearchCV(estimator=LogisticRegression(), param_grid=param_LR)\n",
    "# gsCV_LR.fit(X_train, y_train.to_numpy().ravel())\n",
    "# params = gsCV_LR.best_params_\n",
    "# print(params)"
   ]
  },
  {
   "cell_type": "markdown",
   "id": "891b28fa",
   "metadata": {},
   "source": [
    "Train the model"
   ]
  },
  {
   "cell_type": "code",
   "execution_count": 19,
   "id": "8845c127",
   "metadata": {},
   "outputs": [
    {
     "data": {
      "text/plain": [
       "LogisticRegression(C=1.623776739188721, max_iter=150, penalty='l1',\n",
       "                   solver='liblinear')"
      ]
     },
     "execution_count": 19,
     "metadata": {},
     "output_type": "execute_result"
    }
   ],
   "source": [
    "params = {'C': 1.623776739188721, 'max_iter': 150, 'penalty': 'l1', 'solver': 'liblinear'}\n",
    "\n",
    "clf_LR = LogisticRegression(**params)\n",
    "# clf_LR = LogisticRegression()\n",
    "clf_LR.fit(X_train_scaled, y_train.to_numpy().ravel())"
   ]
  },
  {
   "cell_type": "markdown",
   "id": "304c40e3",
   "metadata": {},
   "source": [
    "Check results to see model's performance"
   ]
  },
  {
   "cell_type": "code",
   "execution_count": 20,
   "id": "2038900d",
   "metadata": {
    "scrolled": false
   },
   "outputs": [
    {
     "name": "stdout",
     "output_type": "stream",
     "text": [
      "0.749517544 accuracy with a standard deviation of 0.00000\n"
     ]
    }
   ],
   "source": [
    "train_scores = np.mean(cross_val_score(clf_LR, X_train_scaled, y_train.to_numpy().ravel()))\n",
    "print(\"%0.9f accuracy with a standard deviation of %0.5f\" % (train_scores.mean(), train_scores.std()))"
   ]
  },
  {
   "cell_type": "code",
   "execution_count": 21,
   "id": "67effec9",
   "metadata": {
    "scrolled": false
   },
   "outputs": [
    {
     "name": "stdout",
     "output_type": "stream",
     "text": [
      "0.858333333 accuracy with a standard deviation of 0.00000\n"
     ]
    }
   ],
   "source": [
    "train_scores = np.mean(cross_val_score(clf_LR, X_test_scaled, y_test.to_numpy().ravel()))\n",
    "print(\"%0.9f accuracy with a standard deviation of %0.5f\" % (train_scores.mean(), train_scores.std()))"
   ]
  },
  {
   "cell_type": "markdown",
   "id": "589c4e3e",
   "metadata": {},
   "source": [
    "Predict test set and see performance values"
   ]
  },
  {
   "cell_type": "code",
   "execution_count": 22,
   "id": "ef068b5c",
   "metadata": {
    "scrolled": false
   },
   "outputs": [
    {
     "name": "stdout",
     "output_type": "stream",
     "text": [
      "Test score: 0.825\n",
      "Confusion matrix:\n",
      "[[68  6]\n",
      " [15 31]]\n",
      "\n",
      "Classification report:\n",
      "              precision    recall  f1-score   support\n",
      "\n",
      "           0       0.82      0.92      0.87        74\n",
      "           1       0.84      0.67      0.75        46\n",
      "\n",
      "    accuracy                           0.82       120\n",
      "   macro avg       0.83      0.80      0.81       120\n",
      "weighted avg       0.83      0.82      0.82       120\n",
      "\n"
     ]
    }
   ],
   "source": [
    "y_pred_LR = clf_LR.predict(X_test_scaled)\n",
    "print(\"Test score:\", accuracy_score(y_test, y_pred_LR))\n",
    "print(\"Confusion matrix:\")\n",
    "print(confusion_matrix(y_test, y_pred_LR))\n",
    "print()\n",
    "print(\"Classification report:\")\n",
    "print(classification_report(y_test, y_pred_LR))"
   ]
  },
  {
   "cell_type": "markdown",
   "id": "1d556b79",
   "metadata": {},
   "source": [
    "<a id=\"dt\"></a>\n",
    "## Decision Tree"
   ]
  },
  {
   "cell_type": "markdown",
   "id": "ce0269b3",
   "metadata": {},
   "source": [
    "Hyperparameter tuning done using GridSearchCV, parameters are set after running GSCV once and it produced satisfactory results, did some manual tuning through trial-and-error and found that the manual tuning give best training and testing accuracy score difference (lower is better) while also produce high general accuracy scores with okay f1 scores"
   ]
  },
  {
   "cell_type": "code",
   "execution_count": 23,
   "id": "68418de2",
   "metadata": {},
   "outputs": [],
   "source": [
    "# param_DT = {\n",
    "#     'min_samples_leaf': [1, 2, 3, 6, 12, 20],\n",
    "#     'min_samples_split': [2, 4, 8, 16, 25, 32],\n",
    "#     'max_features': ['auto', 'sqrt', 'log2'],\n",
    "#     \"max_depth\":[2, 4, 8, 16, 32, 50, None],\n",
    "#     \"random_state\": [42]\n",
    "# }\n",
    "\n",
    "# gsCV_DT = GridSearchCV(estimator=DecisionTreeClassifier(), param_grid=param_DT)\n",
    "# gsCV_DT.fit(X_train, y_train.to_numpy().ravel())\n",
    "# params = gsCV_DT.best_params_\n",
    "# print(params)"
   ]
  },
  {
   "cell_type": "code",
   "execution_count": 24,
   "id": "0e5c3f68",
   "metadata": {
    "scrolled": true
   },
   "outputs": [
    {
     "data": {
      "text/plain": [
       "DecisionTreeClassifier(max_depth=8, max_features='log2', random_state=42)"
      ]
     },
     "execution_count": 24,
     "metadata": {},
     "output_type": "execute_result"
    }
   ],
   "source": [
    "params = {'max_depth': 8, 'max_features': 'log2', 'min_samples_leaf': 1, 'min_samples_split': 2, 'random_state': 42}\n",
    "\n",
    "# clf_DT = DecisionTreeClassifier(max_depth=5, min_samples_leaf=20)\n",
    "clf_DT = DecisionTreeClassifier(**params)\n",
    "clf_DT.fit(X_train, y_train.to_numpy().ravel())"
   ]
  },
  {
   "cell_type": "markdown",
   "id": "dfb52fe7",
   "metadata": {},
   "source": [
    "Check results to see model's performance"
   ]
  },
  {
   "cell_type": "code",
   "execution_count": 25,
   "id": "868e86fe",
   "metadata": {
    "scrolled": false
   },
   "outputs": [
    {
     "name": "stdout",
     "output_type": "stream",
     "text": [
      "0.682653509 accuracy with a standard deviation of 0.00000\n"
     ]
    }
   ],
   "source": [
    "train_scores = np.mean(cross_val_score(clf_DT, X_train, y_train.to_numpy().ravel()))\n",
    "print(\"%0.9f accuracy with a standard deviation of %0.5f\" % (train_scores.mean(), train_scores.std()))"
   ]
  },
  {
   "cell_type": "code",
   "execution_count": 26,
   "id": "470f8de8",
   "metadata": {
    "scrolled": true
   },
   "outputs": [
    {
     "name": "stdout",
     "output_type": "stream",
     "text": [
      "0.775000000 accuracy with a standard deviation of 0.00000\n"
     ]
    }
   ],
   "source": [
    "train_scores = np.mean(cross_val_score(clf_DT, X_test, y_test.to_numpy().ravel()))\n",
    "print(\"%0.9f accuracy with a standard deviation of %0.5f\" % (train_scores.mean(), train_scores.std()))"
   ]
  },
  {
   "cell_type": "markdown",
   "id": "d31cdbaa",
   "metadata": {},
   "source": [
    "Predict test set and see performance values"
   ]
  },
  {
   "cell_type": "code",
   "execution_count": 27,
   "id": "e276f25d",
   "metadata": {
    "scrolled": false
   },
   "outputs": [
    {
     "name": "stdout",
     "output_type": "stream",
     "text": [
      "Test score: 0.7833333333333333\n",
      "Confusion matrix:\n",
      "[[65  9]\n",
      " [17 29]]\n",
      "\n",
      "Classification report:\n",
      "              precision    recall  f1-score   support\n",
      "\n",
      "           0       0.79      0.88      0.83        74\n",
      "           1       0.76      0.63      0.69        46\n",
      "\n",
      "    accuracy                           0.78       120\n",
      "   macro avg       0.78      0.75      0.76       120\n",
      "weighted avg       0.78      0.78      0.78       120\n",
      "\n"
     ]
    }
   ],
   "source": [
    "y_pred_DT = clf_DT.predict(X_test)\n",
    "\n",
    "print(\"Test score:\", accuracy_score(y_test, y_pred_DT))\n",
    "print(\"Confusion matrix:\")\n",
    "print(confusion_matrix(y_test, y_pred_DT))\n",
    "print()\n",
    "print(\"Classification report:\")\n",
    "print(classification_report(y_test, y_pred_DT))"
   ]
  },
  {
   "cell_type": "markdown",
   "id": "087000bf",
   "metadata": {},
   "source": [
    "<a id=\"rfc\"></a>\n",
    "## Random Forest"
   ]
  },
  {
   "cell_type": "markdown",
   "id": "da0d3448",
   "metadata": {},
   "source": [
    "Hyperparameter tuning done using GridSearchCV, parameters are set after running GSCV once and it produced satisfactory results, did some manual tuning through trial-and-error and found that the manual tuning give best training and testing accuracy score difference (lower is better) while also produce high general accuracy scores with somewhat decent f1 scores"
   ]
  },
  {
   "cell_type": "code",
   "execution_count": 28,
   "id": "fe00faf8",
   "metadata": {},
   "outputs": [],
   "source": [
    "# param_RFC = {\n",
    "#     'max_features': ['auto', 'sqrt', 'log2'],\n",
    "#     'min_samples_split': [2, 5, 10, 15, 20],\n",
    "#     'min_samples_leaf': [1, 2, 5, 10, 15],\n",
    "#     \"n_estimators\":[10, 50, 100],\n",
    "#     \"max_depth\":[2, 4, 8, 16, 32, 50, None],\n",
    "#     \"bootstrap\": [True, False],\n",
    "# }\n",
    "\n",
    "# gsCV_RFC = GridSearchCV(estimator=RandomForestClassifier(), param_grid=param_RFC)\n",
    "# gsCV_RFC.fit(X_train, y_train.to_numpy().ravel())\n",
    "# params = gsCV_RFC.best_params_\n",
    "# print(params)"
   ]
  },
  {
   "cell_type": "markdown",
   "id": "df4b0bac",
   "metadata": {},
   "source": [
    "Train the model with the best parameters as hyperparameter retrieved from GridSearchCV"
   ]
  },
  {
   "cell_type": "code",
   "execution_count": 29,
   "id": "1cdaf6e7",
   "metadata": {
    "scrolled": true
   },
   "outputs": [
    {
     "data": {
      "text/plain": [
       "RandomForestClassifier(bootstrap=False, max_depth=16, max_features='sqrt',\n",
       "                       min_samples_leaf=10, min_samples_split=15)"
      ]
     },
     "execution_count": 29,
     "metadata": {},
     "output_type": "execute_result"
    }
   ],
   "source": [
    "params = {'bootstrap': False, 'max_depth': 16, 'max_features': 'sqrt', 'min_samples_leaf': 10, 'min_samples_split': 15, 'n_estimators': 100}\n",
    "\n",
    "clf_RFC = RandomForestClassifier(**params)\n",
    "# clf_RFC = RandomForestClassifier(min_samples_leaf=24, max_depth=40)\n",
    "\n",
    "clf_RFC.fit(X_train, y_train.to_numpy().ravel())"
   ]
  },
  {
   "cell_type": "markdown",
   "id": "e85156f5",
   "metadata": {},
   "source": [
    "Check results to see model's performance "
   ]
  },
  {
   "cell_type": "code",
   "execution_count": 30,
   "id": "dbc9932b",
   "metadata": {
    "scrolled": false
   },
   "outputs": [
    {
     "name": "stdout",
     "output_type": "stream",
     "text": [
      "0.734890351 accuracy with a standard deviation of 0.00000\n"
     ]
    }
   ],
   "source": [
    "train_scores = np.mean(cross_val_score(clf_RFC, X_train, y_train.to_numpy().ravel()))\n",
    "print(\"%0.9f accuracy with a standard deviation of %0.5f\" % (train_scores.mean(), train_scores.std()))"
   ]
  },
  {
   "cell_type": "code",
   "execution_count": 31,
   "id": "e3362d85",
   "metadata": {
    "scrolled": true
   },
   "outputs": [
    {
     "name": "stdout",
     "output_type": "stream",
     "text": [
      "0.825000000 accuracy with a standard deviation of 0.00000\n"
     ]
    }
   ],
   "source": [
    "train_scores = np.mean(cross_val_score(clf_RFC, X_test, y_test.to_numpy().ravel()))\n",
    "print(\"%0.9f accuracy with a standard deviation of %0.5f\" % (train_scores.mean(), train_scores.std()))"
   ]
  },
  {
   "cell_type": "markdown",
   "id": "1b612bb5",
   "metadata": {},
   "source": [
    "Predict test set and see performance values"
   ]
  },
  {
   "cell_type": "code",
   "execution_count": 32,
   "id": "0c972e4d",
   "metadata": {
    "scrolled": false
   },
   "outputs": [
    {
     "name": "stdout",
     "output_type": "stream",
     "text": [
      "Test score: 0.8083333333333333\n",
      "Confusion matrix:\n",
      "[[69  5]\n",
      " [18 28]]\n",
      "\n",
      "Classification report:\n",
      "              precision    recall  f1-score   support\n",
      "\n",
      "           0       0.79      0.93      0.86        74\n",
      "           1       0.85      0.61      0.71        46\n",
      "\n",
      "    accuracy                           0.81       120\n",
      "   macro avg       0.82      0.77      0.78       120\n",
      "weighted avg       0.81      0.81      0.80       120\n",
      "\n"
     ]
    }
   ],
   "source": [
    "y_pred_RFC = clf_RFC.predict(X_test)\n",
    "\n",
    "print(\"Test score:\", accuracy_score(y_test, y_pred_RFC))\n",
    "print(\"Confusion matrix:\")\n",
    "print(confusion_matrix(y_test, y_pred_RFC))\n",
    "print()\n",
    "print(\"Classification report:\")\n",
    "print(classification_report(y_test, y_pred_RFC))"
   ]
  },
  {
   "cell_type": "markdown",
   "id": "d2f1a9bc",
   "metadata": {},
   "source": [
    "<a id=\"predicting\"></a>\n",
    "<div style=\"background-color: lightblue; color: black; text-align: center; padding: 6px 0 22px 0\">\n",
    "    <h2>Predicting Test Data</h2>\n",
    "</div>"
   ]
  },
  {
   "cell_type": "markdown",
   "id": "33620b49",
   "metadata": {},
   "source": [
    "<a id=\"cross-val\"></a>\n",
    "\n",
    "## Cross Validation"
   ]
  },
  {
   "cell_type": "markdown",
   "id": "b9a2cf58",
   "metadata": {},
   "source": [
    "Get the best model from mean of accuracy score of each list"
   ]
  },
  {
   "cell_type": "code",
   "execution_count": 33,
   "id": "3a350a18",
   "metadata": {},
   "outputs": [],
   "source": [
    "def get_f1_score_mean(y, y_pred, num_run):\n",
    "    score = [];\n",
    "    for i in range (num_run):\n",
    "        score.append(f1_score(y, y_pred, average='macro'))\n",
    "    return score"
   ]
  },
  {
   "cell_type": "code",
   "execution_count": 34,
   "id": "fdb88a35",
   "metadata": {
    "scrolled": true
   },
   "outputs": [
    {
     "name": "stdout",
     "output_type": "stream",
     "text": [
      "Logistic Regression Classifier accuracy: 0.8583333333333334\n",
      "Decision Tree Classifier accuracy: 0.775\n",
      "Random Forest Classifier accuracy: 0.8\n",
      "\n",
      "Logistic Regression Classifier f1 score: 0.8066149950118948\n",
      "Decision Tree Classifier f1 score: 0.7619047619047619\n",
      "Random Forest Classifier f1 score: 0.7830018083182639\n"
     ]
    }
   ],
   "source": [
    "acc_LR = np.mean(cross_val_score(clf_LR, X_test_scaled, y_test.to_numpy().ravel()))\n",
    "acc_DT = np.mean(cross_val_score(clf_DT, X_test, y_test.to_numpy().ravel()))\n",
    "acc_RFC = np.mean(cross_val_score(clf_RFC, X_test, y_test.to_numpy().ravel()))\n",
    "\n",
    "print(\"Logistic Regression Classifier accuracy:\", acc_LR)\n",
    "print(\"Decision Tree Classifier accuracy:\", acc_DT)\n",
    "print(\"Random Forest Classifier accuracy:\", acc_RFC)\n",
    "\n",
    "print()\n",
    "\n",
    "f1_LR = np.mean(get_f1_score_mean(y_test, y_pred_LR, 5))\n",
    "f1_DT = np.mean(get_f1_score_mean(y_test, y_pred_DT, 5))\n",
    "f1_RFC = np.mean(get_f1_score_mean(y_test, y_pred_RFC, 5))\n",
    "\n",
    "print(\"Logistic Regression Classifier f1 score:\", f1_LR)\n",
    "print(\"Decision Tree Classifier f1 score:\", f1_DT)\n",
    "print(\"Random Forest Classifier f1 score:\", f1_RFC)"
   ]
  },
  {
   "cell_type": "markdown",
   "id": "f1d3b888",
   "metadata": {},
   "source": [
    "Make a dictionary and automatically select the model with the highest f1 score, ignores accuracy score because f1 score is more reliable"
   ]
  },
  {
   "cell_type": "code",
   "execution_count": 35,
   "id": "8af304bf",
   "metadata": {},
   "outputs": [
    {
     "name": "stdout",
     "output_type": "stream",
     "text": [
      "Best model: LogisticRegression(C=1.623776739188721, max_iter=150, penalty='l1',\n",
      "                   solver='liblinear')\n"
     ]
    }
   ],
   "source": [
    "test_X = test_df\n",
    "test_X_scaled = scaler.transform(test_X)\n",
    "\n",
    "f1_scores = {\n",
    "    f1_LR: [clf_LR, test_X_scaled],\n",
    "    f1_DT: [clf_DT, test_X],\n",
    "    f1_RFC: [clf_RFC, test_X],\n",
    "}\n",
    "\n",
    "clf = None\n",
    "test_data = None\n",
    "highestScore = 0;\n",
    "for k, v in f1_scores.items():\n",
    "    if k > highestScore:\n",
    "        highestScore = k\n",
    "        clf = v[0]\n",
    "        test_data = v[1]\n",
    "print(\"Best model:\", clf)"
   ]
  },
  {
   "cell_type": "markdown",
   "id": "41a74fbd",
   "metadata": {},
   "source": [
    "Predict test data"
   ]
  },
  {
   "cell_type": "code",
   "execution_count": 36,
   "id": "0460eb89",
   "metadata": {},
   "outputs": [],
   "source": [
    "y_preds = clf.predict(test_data)"
   ]
  },
  {
   "cell_type": "markdown",
   "id": "661a80a5",
   "metadata": {},
   "source": [
    "<a id=\"writing\"></a>\n",
    "\n",
    "## Writing to file"
   ]
  },
  {
   "cell_type": "code",
   "execution_count": 37,
   "id": "9ee532c4",
   "metadata": {
    "scrolled": false
   },
   "outputs": [
    {
     "name": "stdout",
     "output_type": "stream",
     "text": [
      "<class 'pandas.core.frame.DataFrame'>\n",
      "RangeIndex: 169 entries, 0 to 168\n",
      "Data columns (total 2 columns):\n",
      " #   Column   Non-Null Count  Dtype \n",
      "---  ------   --------------  ----- \n",
      " 0   ID\t      169 non-null    object\n",
      " 1   Sepssis  169 non-null    int64 \n",
      "dtypes: int64(1), object(1)\n",
      "memory usage: 2.8+ KB\n"
     ]
    },
    {
     "data": {
      "text/html": [
       "<div>\n",
       "<style scoped>\n",
       "    .dataframe tbody tr th:only-of-type {\n",
       "        vertical-align: middle;\n",
       "    }\n",
       "\n",
       "    .dataframe tbody tr th {\n",
       "        vertical-align: top;\n",
       "    }\n",
       "\n",
       "    .dataframe thead th {\n",
       "        text-align: right;\n",
       "    }\n",
       "</style>\n",
       "<table border=\"1\" class=\"dataframe\">\n",
       "  <thead>\n",
       "    <tr style=\"text-align: right;\">\n",
       "      <th></th>\n",
       "      <th>ID\\t</th>\n",
       "      <th>Sepssis</th>\n",
       "    </tr>\n",
       "  </thead>\n",
       "  <tbody>\n",
       "    <tr>\n",
       "      <th>0</th>\n",
       "      <td>ICU200609\\t\\t\\t\\t\\t</td>\n",
       "      <td>Negative</td>\n",
       "    </tr>\n",
       "    <tr>\n",
       "      <th>1</th>\n",
       "      <td>ICU200610\\t\\t\\t\\t\\t</td>\n",
       "      <td>Negative</td>\n",
       "    </tr>\n",
       "    <tr>\n",
       "      <th>2</th>\n",
       "      <td>ICU200611\\t\\t\\t\\t\\t</td>\n",
       "      <td>Negative</td>\n",
       "    </tr>\n",
       "    <tr>\n",
       "      <th>3</th>\n",
       "      <td>ICU200612\\t\\t\\t\\t\\t</td>\n",
       "      <td>Negative</td>\n",
       "    </tr>\n",
       "    <tr>\n",
       "      <th>4</th>\n",
       "      <td>ICU200613\\t\\t\\t\\t\\t</td>\n",
       "      <td>Positive</td>\n",
       "    </tr>\n",
       "    <tr>\n",
       "      <th>...</th>\n",
       "      <td>...</td>\n",
       "      <td>...</td>\n",
       "    </tr>\n",
       "    <tr>\n",
       "      <th>164</th>\n",
       "      <td>ICU200773\\t\\t\\t\\t\\t</td>\n",
       "      <td>Negative</td>\n",
       "    </tr>\n",
       "    <tr>\n",
       "      <th>165</th>\n",
       "      <td>ICU200774\\t\\t\\t\\t\\t</td>\n",
       "      <td>Negative</td>\n",
       "    </tr>\n",
       "    <tr>\n",
       "      <th>166</th>\n",
       "      <td>ICU200775\\t\\t\\t\\t\\t</td>\n",
       "      <td>Negative</td>\n",
       "    </tr>\n",
       "    <tr>\n",
       "      <th>167</th>\n",
       "      <td>ICU200776\\t\\t\\t\\t\\t</td>\n",
       "      <td>Negative</td>\n",
       "    </tr>\n",
       "    <tr>\n",
       "      <th>168</th>\n",
       "      <td>ICU200777\\t\\t\\t\\t\\t</td>\n",
       "      <td>Negative</td>\n",
       "    </tr>\n",
       "  </tbody>\n",
       "</table>\n",
       "<p>169 rows × 2 columns</p>\n",
       "</div>"
      ],
      "text/plain": [
       "                    ID\\t   Sepssis\n",
       "0    ICU200609\\t\\t\\t\\t\\t  Negative\n",
       "1    ICU200610\\t\\t\\t\\t\\t  Negative\n",
       "2    ICU200611\\t\\t\\t\\t\\t  Negative\n",
       "3    ICU200612\\t\\t\\t\\t\\t  Negative\n",
       "4    ICU200613\\t\\t\\t\\t\\t  Positive\n",
       "..                   ...       ...\n",
       "164  ICU200773\\t\\t\\t\\t\\t  Negative\n",
       "165  ICU200774\\t\\t\\t\\t\\t  Negative\n",
       "166  ICU200775\\t\\t\\t\\t\\t  Negative\n",
       "167  ICU200776\\t\\t\\t\\t\\t  Negative\n",
       "168  ICU200777\\t\\t\\t\\t\\t  Negative\n",
       "\n",
       "[169 rows x 2 columns]"
      ]
     },
     "execution_count": 37,
     "metadata": {},
     "output_type": "execute_result"
    }
   ],
   "source": [
    "submission_df.loc[:, 'Sepssis'] = y_preds\n",
    "submission_df.info()\n",
    "submission_df[[\"Sepssis\"]] = submission_df[[\"Sepssis\"]].replace(0, \"Negative\").replace(1, \"Positive\")\n",
    "submission_df.to_csv('COSC2753_A1_Predictions_s3757317_draft.csv', index=False)\n",
    "submission_df"
   ]
  }
 ],
 "metadata": {
  "kernelspec": {
   "display_name": "Python 3 (ipykernel)",
   "language": "python",
   "name": "python3"
  },
  "language_info": {
   "codemirror_mode": {
    "name": "ipython",
    "version": 3
   },
   "file_extension": ".py",
   "mimetype": "text/x-python",
   "name": "python",
   "nbconvert_exporter": "python",
   "pygments_lexer": "ipython3",
   "version": "3.9.13"
  }
 },
 "nbformat": 4,
 "nbformat_minor": 5
}
